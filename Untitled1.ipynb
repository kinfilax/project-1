{
  "nbformat": 4,
  "nbformat_minor": 0,
  "metadata": {
    "colab": {
      "provenance": [],
      "authorship_tag": "ABX9TyNcofM64cY5Bm/r14yJyCio",
      "include_colab_link": true
    },
    "kernelspec": {
      "name": "python3",
      "display_name": "Python 3"
    },
    "language_info": {
      "name": "python"
    }
  },
  "cells": [
    {
      "cell_type": "markdown",
      "metadata": {
        "id": "view-in-github",
        "colab_type": "text"
      },
      "source": [
        "<a href=\"https://colab.research.google.com/github/kinfilax/project-1/blob/main/Untitled1.ipynb\" target=\"_parent\"><img src=\"https://colab.research.google.com/assets/colab-badge.svg\" alt=\"Open In Colab\"/></a>"
      ]
    },
    {
      "cell_type": "code",
      "execution_count": 6,
      "metadata": {
        "colab": {
          "base_uri": "https://localhost:8080/"
        },
        "id": "WZHp5P29LshM",
        "outputId": "b9b75177-c951-4ce1-978b-6549cfe67cf9"
      },
      "outputs": [
        {
          "output_type": "stream",
          "name": "stdout",
          "text": [
            "What is your username?\n",
            "Polly1220\n",
            "Password?\n",
            "Bob\n",
            "Welcome!\n"
          ]
        }
      ],
      "source": [
        "username = 'Laxmi'\n",
        "\n",
        "password = 'Prabha@10'\n",
        "\n",
        "userInput = input(\"What is your username?\\n\")\n",
        "\n",
        "if userInput == username:\n",
        "    a=input(\"Password?\\n\")   \n",
        "    if a == password:\n",
        "        print(\"Welcome!\")\n",
        "    else:\n",
        "        print(\"That is the wrong password.\")\n",
        "else:\n",
        "    print(\"That is the wrong username.\")"
      ]
    }
  ]
}